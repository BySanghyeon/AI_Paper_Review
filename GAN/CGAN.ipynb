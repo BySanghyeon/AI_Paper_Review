{
  "nbformat": 4,
  "nbformat_minor": 0,
  "metadata": {
    "colab": {
      "provenance": [],
      "collapsed_sections": [],
      "authorship_tag": "ABX9TyP6YvzVvmW74CJsphOfsabv",
      "include_colab_link": true
    },
    "kernelspec": {
      "name": "python3",
      "display_name": "Python 3"
    },
    "language_info": {
      "name": "python"
    },
    "gpuClass": "standard",
    "widgets": {
      "application/vnd.jupyter.widget-state+json": {
        "e47deb44f7de46af877cbbc015011d12": {
          "model_module": "@jupyter-widgets/controls",
          "model_name": "HBoxModel",
          "model_module_version": "1.5.0",
          "state": {
            "_dom_classes": [],
            "_model_module": "@jupyter-widgets/controls",
            "_model_module_version": "1.5.0",
            "_model_name": "HBoxModel",
            "_view_count": null,
            "_view_module": "@jupyter-widgets/controls",
            "_view_module_version": "1.5.0",
            "_view_name": "HBoxView",
            "box_style": "",
            "children": [
              "IPY_MODEL_8a3fedf2bd0f4118b7f1d94846cb9f91",
              "IPY_MODEL_afcb2f0d1af943cdb42cb5a501b0075c",
              "IPY_MODEL_b824b4c3f47840fd96f225059e9186e1"
            ],
            "layout": "IPY_MODEL_cdcbf5d6a9254066acd20f9a83c5bdc5"
          }
        },
        "8a3fedf2bd0f4118b7f1d94846cb9f91": {
          "model_module": "@jupyter-widgets/controls",
          "model_name": "HTMLModel",
          "model_module_version": "1.5.0",
          "state": {
            "_dom_classes": [],
            "_model_module": "@jupyter-widgets/controls",
            "_model_module_version": "1.5.0",
            "_model_name": "HTMLModel",
            "_view_count": null,
            "_view_module": "@jupyter-widgets/controls",
            "_view_module_version": "1.5.0",
            "_view_name": "HTMLView",
            "description": "",
            "description_tooltip": null,
            "layout": "IPY_MODEL_b65aaeb3e64647ef85d6a718c22174f6",
            "placeholder": "​",
            "style": "IPY_MODEL_474483f031e8407b931f3fdf181d8699",
            "value": "100%"
          }
        },
        "afcb2f0d1af943cdb42cb5a501b0075c": {
          "model_module": "@jupyter-widgets/controls",
          "model_name": "FloatProgressModel",
          "model_module_version": "1.5.0",
          "state": {
            "_dom_classes": [],
            "_model_module": "@jupyter-widgets/controls",
            "_model_module_version": "1.5.0",
            "_model_name": "FloatProgressModel",
            "_view_count": null,
            "_view_module": "@jupyter-widgets/controls",
            "_view_module_version": "1.5.0",
            "_view_name": "ProgressView",
            "bar_style": "success",
            "description": "",
            "description_tooltip": null,
            "layout": "IPY_MODEL_ed7eb835b922431a9f663dfd1f9d9687",
            "max": 9912422,
            "min": 0,
            "orientation": "horizontal",
            "style": "IPY_MODEL_27fea7ab40f14f51b6d668d7e69e88b9",
            "value": 9912422
          }
        },
        "b824b4c3f47840fd96f225059e9186e1": {
          "model_module": "@jupyter-widgets/controls",
          "model_name": "HTMLModel",
          "model_module_version": "1.5.0",
          "state": {
            "_dom_classes": [],
            "_model_module": "@jupyter-widgets/controls",
            "_model_module_version": "1.5.0",
            "_model_name": "HTMLModel",
            "_view_count": null,
            "_view_module": "@jupyter-widgets/controls",
            "_view_module_version": "1.5.0",
            "_view_name": "HTMLView",
            "description": "",
            "description_tooltip": null,
            "layout": "IPY_MODEL_39a7ff755f8b486999f172c7c229156d",
            "placeholder": "​",
            "style": "IPY_MODEL_c42fdc58d8f04666b04e65cd46b7f724",
            "value": " 9912422/9912422 [00:00&lt;00:00, 102600090.43it/s]"
          }
        },
        "cdcbf5d6a9254066acd20f9a83c5bdc5": {
          "model_module": "@jupyter-widgets/base",
          "model_name": "LayoutModel",
          "model_module_version": "1.2.0",
          "state": {
            "_model_module": "@jupyter-widgets/base",
            "_model_module_version": "1.2.0",
            "_model_name": "LayoutModel",
            "_view_count": null,
            "_view_module": "@jupyter-widgets/base",
            "_view_module_version": "1.2.0",
            "_view_name": "LayoutView",
            "align_content": null,
            "align_items": null,
            "align_self": null,
            "border": null,
            "bottom": null,
            "display": null,
            "flex": null,
            "flex_flow": null,
            "grid_area": null,
            "grid_auto_columns": null,
            "grid_auto_flow": null,
            "grid_auto_rows": null,
            "grid_column": null,
            "grid_gap": null,
            "grid_row": null,
            "grid_template_areas": null,
            "grid_template_columns": null,
            "grid_template_rows": null,
            "height": null,
            "justify_content": null,
            "justify_items": null,
            "left": null,
            "margin": null,
            "max_height": null,
            "max_width": null,
            "min_height": null,
            "min_width": null,
            "object_fit": null,
            "object_position": null,
            "order": null,
            "overflow": null,
            "overflow_x": null,
            "overflow_y": null,
            "padding": null,
            "right": null,
            "top": null,
            "visibility": null,
            "width": null
          }
        },
        "b65aaeb3e64647ef85d6a718c22174f6": {
          "model_module": "@jupyter-widgets/base",
          "model_name": "LayoutModel",
          "model_module_version": "1.2.0",
          "state": {
            "_model_module": "@jupyter-widgets/base",
            "_model_module_version": "1.2.0",
            "_model_name": "LayoutModel",
            "_view_count": null,
            "_view_module": "@jupyter-widgets/base",
            "_view_module_version": "1.2.0",
            "_view_name": "LayoutView",
            "align_content": null,
            "align_items": null,
            "align_self": null,
            "border": null,
            "bottom": null,
            "display": null,
            "flex": null,
            "flex_flow": null,
            "grid_area": null,
            "grid_auto_columns": null,
            "grid_auto_flow": null,
            "grid_auto_rows": null,
            "grid_column": null,
            "grid_gap": null,
            "grid_row": null,
            "grid_template_areas": null,
            "grid_template_columns": null,
            "grid_template_rows": null,
            "height": null,
            "justify_content": null,
            "justify_items": null,
            "left": null,
            "margin": null,
            "max_height": null,
            "max_width": null,
            "min_height": null,
            "min_width": null,
            "object_fit": null,
            "object_position": null,
            "order": null,
            "overflow": null,
            "overflow_x": null,
            "overflow_y": null,
            "padding": null,
            "right": null,
            "top": null,
            "visibility": null,
            "width": null
          }
        },
        "474483f031e8407b931f3fdf181d8699": {
          "model_module": "@jupyter-widgets/controls",
          "model_name": "DescriptionStyleModel",
          "model_module_version": "1.5.0",
          "state": {
            "_model_module": "@jupyter-widgets/controls",
            "_model_module_version": "1.5.0",
            "_model_name": "DescriptionStyleModel",
            "_view_count": null,
            "_view_module": "@jupyter-widgets/base",
            "_view_module_version": "1.2.0",
            "_view_name": "StyleView",
            "description_width": ""
          }
        },
        "ed7eb835b922431a9f663dfd1f9d9687": {
          "model_module": "@jupyter-widgets/base",
          "model_name": "LayoutModel",
          "model_module_version": "1.2.0",
          "state": {
            "_model_module": "@jupyter-widgets/base",
            "_model_module_version": "1.2.0",
            "_model_name": "LayoutModel",
            "_view_count": null,
            "_view_module": "@jupyter-widgets/base",
            "_view_module_version": "1.2.0",
            "_view_name": "LayoutView",
            "align_content": null,
            "align_items": null,
            "align_self": null,
            "border": null,
            "bottom": null,
            "display": null,
            "flex": null,
            "flex_flow": null,
            "grid_area": null,
            "grid_auto_columns": null,
            "grid_auto_flow": null,
            "grid_auto_rows": null,
            "grid_column": null,
            "grid_gap": null,
            "grid_row": null,
            "grid_template_areas": null,
            "grid_template_columns": null,
            "grid_template_rows": null,
            "height": null,
            "justify_content": null,
            "justify_items": null,
            "left": null,
            "margin": null,
            "max_height": null,
            "max_width": null,
            "min_height": null,
            "min_width": null,
            "object_fit": null,
            "object_position": null,
            "order": null,
            "overflow": null,
            "overflow_x": null,
            "overflow_y": null,
            "padding": null,
            "right": null,
            "top": null,
            "visibility": null,
            "width": null
          }
        },
        "27fea7ab40f14f51b6d668d7e69e88b9": {
          "model_module": "@jupyter-widgets/controls",
          "model_name": "ProgressStyleModel",
          "model_module_version": "1.5.0",
          "state": {
            "_model_module": "@jupyter-widgets/controls",
            "_model_module_version": "1.5.0",
            "_model_name": "ProgressStyleModel",
            "_view_count": null,
            "_view_module": "@jupyter-widgets/base",
            "_view_module_version": "1.2.0",
            "_view_name": "StyleView",
            "bar_color": null,
            "description_width": ""
          }
        },
        "39a7ff755f8b486999f172c7c229156d": {
          "model_module": "@jupyter-widgets/base",
          "model_name": "LayoutModel",
          "model_module_version": "1.2.0",
          "state": {
            "_model_module": "@jupyter-widgets/base",
            "_model_module_version": "1.2.0",
            "_model_name": "LayoutModel",
            "_view_count": null,
            "_view_module": "@jupyter-widgets/base",
            "_view_module_version": "1.2.0",
            "_view_name": "LayoutView",
            "align_content": null,
            "align_items": null,
            "align_self": null,
            "border": null,
            "bottom": null,
            "display": null,
            "flex": null,
            "flex_flow": null,
            "grid_area": null,
            "grid_auto_columns": null,
            "grid_auto_flow": null,
            "grid_auto_rows": null,
            "grid_column": null,
            "grid_gap": null,
            "grid_row": null,
            "grid_template_areas": null,
            "grid_template_columns": null,
            "grid_template_rows": null,
            "height": null,
            "justify_content": null,
            "justify_items": null,
            "left": null,
            "margin": null,
            "max_height": null,
            "max_width": null,
            "min_height": null,
            "min_width": null,
            "object_fit": null,
            "object_position": null,
            "order": null,
            "overflow": null,
            "overflow_x": null,
            "overflow_y": null,
            "padding": null,
            "right": null,
            "top": null,
            "visibility": null,
            "width": null
          }
        },
        "c42fdc58d8f04666b04e65cd46b7f724": {
          "model_module": "@jupyter-widgets/controls",
          "model_name": "DescriptionStyleModel",
          "model_module_version": "1.5.0",
          "state": {
            "_model_module": "@jupyter-widgets/controls",
            "_model_module_version": "1.5.0",
            "_model_name": "DescriptionStyleModel",
            "_view_count": null,
            "_view_module": "@jupyter-widgets/base",
            "_view_module_version": "1.2.0",
            "_view_name": "StyleView",
            "description_width": ""
          }
        },
        "577e4cda36f6492d95f62444c7102ae6": {
          "model_module": "@jupyter-widgets/controls",
          "model_name": "HBoxModel",
          "model_module_version": "1.5.0",
          "state": {
            "_dom_classes": [],
            "_model_module": "@jupyter-widgets/controls",
            "_model_module_version": "1.5.0",
            "_model_name": "HBoxModel",
            "_view_count": null,
            "_view_module": "@jupyter-widgets/controls",
            "_view_module_version": "1.5.0",
            "_view_name": "HBoxView",
            "box_style": "",
            "children": [
              "IPY_MODEL_19634f760cb54a979937b0ac95030bdc",
              "IPY_MODEL_e05a9b738a9c42f086dbedc0cc66a357",
              "IPY_MODEL_372c20e300764d08a3432ee647aa35b1"
            ],
            "layout": "IPY_MODEL_baf66e84d13a4bd9be56fc4ea4768d75"
          }
        },
        "19634f760cb54a979937b0ac95030bdc": {
          "model_module": "@jupyter-widgets/controls",
          "model_name": "HTMLModel",
          "model_module_version": "1.5.0",
          "state": {
            "_dom_classes": [],
            "_model_module": "@jupyter-widgets/controls",
            "_model_module_version": "1.5.0",
            "_model_name": "HTMLModel",
            "_view_count": null,
            "_view_module": "@jupyter-widgets/controls",
            "_view_module_version": "1.5.0",
            "_view_name": "HTMLView",
            "description": "",
            "description_tooltip": null,
            "layout": "IPY_MODEL_903c038b2567458ab1a2c919da27fb28",
            "placeholder": "​",
            "style": "IPY_MODEL_9756ba1e2c8b41ab9f13f54814882a61",
            "value": "100%"
          }
        },
        "e05a9b738a9c42f086dbedc0cc66a357": {
          "model_module": "@jupyter-widgets/controls",
          "model_name": "FloatProgressModel",
          "model_module_version": "1.5.0",
          "state": {
            "_dom_classes": [],
            "_model_module": "@jupyter-widgets/controls",
            "_model_module_version": "1.5.0",
            "_model_name": "FloatProgressModel",
            "_view_count": null,
            "_view_module": "@jupyter-widgets/controls",
            "_view_module_version": "1.5.0",
            "_view_name": "ProgressView",
            "bar_style": "success",
            "description": "",
            "description_tooltip": null,
            "layout": "IPY_MODEL_b74d56db58854ee09bef0d89c2439b90",
            "max": 28881,
            "min": 0,
            "orientation": "horizontal",
            "style": "IPY_MODEL_f208b52b8eeb4cd186fde9026da82509",
            "value": 28881
          }
        },
        "372c20e300764d08a3432ee647aa35b1": {
          "model_module": "@jupyter-widgets/controls",
          "model_name": "HTMLModel",
          "model_module_version": "1.5.0",
          "state": {
            "_dom_classes": [],
            "_model_module": "@jupyter-widgets/controls",
            "_model_module_version": "1.5.0",
            "_model_name": "HTMLModel",
            "_view_count": null,
            "_view_module": "@jupyter-widgets/controls",
            "_view_module_version": "1.5.0",
            "_view_name": "HTMLView",
            "description": "",
            "description_tooltip": null,
            "layout": "IPY_MODEL_01c92d56ce1d4f87bdd3f7940c460e49",
            "placeholder": "​",
            "style": "IPY_MODEL_06b17d17728845ee9f9054bc60e23447",
            "value": " 28881/28881 [00:00&lt;00:00, 649677.91it/s]"
          }
        },
        "baf66e84d13a4bd9be56fc4ea4768d75": {
          "model_module": "@jupyter-widgets/base",
          "model_name": "LayoutModel",
          "model_module_version": "1.2.0",
          "state": {
            "_model_module": "@jupyter-widgets/base",
            "_model_module_version": "1.2.0",
            "_model_name": "LayoutModel",
            "_view_count": null,
            "_view_module": "@jupyter-widgets/base",
            "_view_module_version": "1.2.0",
            "_view_name": "LayoutView",
            "align_content": null,
            "align_items": null,
            "align_self": null,
            "border": null,
            "bottom": null,
            "display": null,
            "flex": null,
            "flex_flow": null,
            "grid_area": null,
            "grid_auto_columns": null,
            "grid_auto_flow": null,
            "grid_auto_rows": null,
            "grid_column": null,
            "grid_gap": null,
            "grid_row": null,
            "grid_template_areas": null,
            "grid_template_columns": null,
            "grid_template_rows": null,
            "height": null,
            "justify_content": null,
            "justify_items": null,
            "left": null,
            "margin": null,
            "max_height": null,
            "max_width": null,
            "min_height": null,
            "min_width": null,
            "object_fit": null,
            "object_position": null,
            "order": null,
            "overflow": null,
            "overflow_x": null,
            "overflow_y": null,
            "padding": null,
            "right": null,
            "top": null,
            "visibility": null,
            "width": null
          }
        },
        "903c038b2567458ab1a2c919da27fb28": {
          "model_module": "@jupyter-widgets/base",
          "model_name": "LayoutModel",
          "model_module_version": "1.2.0",
          "state": {
            "_model_module": "@jupyter-widgets/base",
            "_model_module_version": "1.2.0",
            "_model_name": "LayoutModel",
            "_view_count": null,
            "_view_module": "@jupyter-widgets/base",
            "_view_module_version": "1.2.0",
            "_view_name": "LayoutView",
            "align_content": null,
            "align_items": null,
            "align_self": null,
            "border": null,
            "bottom": null,
            "display": null,
            "flex": null,
            "flex_flow": null,
            "grid_area": null,
            "grid_auto_columns": null,
            "grid_auto_flow": null,
            "grid_auto_rows": null,
            "grid_column": null,
            "grid_gap": null,
            "grid_row": null,
            "grid_template_areas": null,
            "grid_template_columns": null,
            "grid_template_rows": null,
            "height": null,
            "justify_content": null,
            "justify_items": null,
            "left": null,
            "margin": null,
            "max_height": null,
            "max_width": null,
            "min_height": null,
            "min_width": null,
            "object_fit": null,
            "object_position": null,
            "order": null,
            "overflow": null,
            "overflow_x": null,
            "overflow_y": null,
            "padding": null,
            "right": null,
            "top": null,
            "visibility": null,
            "width": null
          }
        },
        "9756ba1e2c8b41ab9f13f54814882a61": {
          "model_module": "@jupyter-widgets/controls",
          "model_name": "DescriptionStyleModel",
          "model_module_version": "1.5.0",
          "state": {
            "_model_module": "@jupyter-widgets/controls",
            "_model_module_version": "1.5.0",
            "_model_name": "DescriptionStyleModel",
            "_view_count": null,
            "_view_module": "@jupyter-widgets/base",
            "_view_module_version": "1.2.0",
            "_view_name": "StyleView",
            "description_width": ""
          }
        },
        "b74d56db58854ee09bef0d89c2439b90": {
          "model_module": "@jupyter-widgets/base",
          "model_name": "LayoutModel",
          "model_module_version": "1.2.0",
          "state": {
            "_model_module": "@jupyter-widgets/base",
            "_model_module_version": "1.2.0",
            "_model_name": "LayoutModel",
            "_view_count": null,
            "_view_module": "@jupyter-widgets/base",
            "_view_module_version": "1.2.0",
            "_view_name": "LayoutView",
            "align_content": null,
            "align_items": null,
            "align_self": null,
            "border": null,
            "bottom": null,
            "display": null,
            "flex": null,
            "flex_flow": null,
            "grid_area": null,
            "grid_auto_columns": null,
            "grid_auto_flow": null,
            "grid_auto_rows": null,
            "grid_column": null,
            "grid_gap": null,
            "grid_row": null,
            "grid_template_areas": null,
            "grid_template_columns": null,
            "grid_template_rows": null,
            "height": null,
            "justify_content": null,
            "justify_items": null,
            "left": null,
            "margin": null,
            "max_height": null,
            "max_width": null,
            "min_height": null,
            "min_width": null,
            "object_fit": null,
            "object_position": null,
            "order": null,
            "overflow": null,
            "overflow_x": null,
            "overflow_y": null,
            "padding": null,
            "right": null,
            "top": null,
            "visibility": null,
            "width": null
          }
        },
        "f208b52b8eeb4cd186fde9026da82509": {
          "model_module": "@jupyter-widgets/controls",
          "model_name": "ProgressStyleModel",
          "model_module_version": "1.5.0",
          "state": {
            "_model_module": "@jupyter-widgets/controls",
            "_model_module_version": "1.5.0",
            "_model_name": "ProgressStyleModel",
            "_view_count": null,
            "_view_module": "@jupyter-widgets/base",
            "_view_module_version": "1.2.0",
            "_view_name": "StyleView",
            "bar_color": null,
            "description_width": ""
          }
        },
        "01c92d56ce1d4f87bdd3f7940c460e49": {
          "model_module": "@jupyter-widgets/base",
          "model_name": "LayoutModel",
          "model_module_version": "1.2.0",
          "state": {
            "_model_module": "@jupyter-widgets/base",
            "_model_module_version": "1.2.0",
            "_model_name": "LayoutModel",
            "_view_count": null,
            "_view_module": "@jupyter-widgets/base",
            "_view_module_version": "1.2.0",
            "_view_name": "LayoutView",
            "align_content": null,
            "align_items": null,
            "align_self": null,
            "border": null,
            "bottom": null,
            "display": null,
            "flex": null,
            "flex_flow": null,
            "grid_area": null,
            "grid_auto_columns": null,
            "grid_auto_flow": null,
            "grid_auto_rows": null,
            "grid_column": null,
            "grid_gap": null,
            "grid_row": null,
            "grid_template_areas": null,
            "grid_template_columns": null,
            "grid_template_rows": null,
            "height": null,
            "justify_content": null,
            "justify_items": null,
            "left": null,
            "margin": null,
            "max_height": null,
            "max_width": null,
            "min_height": null,
            "min_width": null,
            "object_fit": null,
            "object_position": null,
            "order": null,
            "overflow": null,
            "overflow_x": null,
            "overflow_y": null,
            "padding": null,
            "right": null,
            "top": null,
            "visibility": null,
            "width": null
          }
        },
        "06b17d17728845ee9f9054bc60e23447": {
          "model_module": "@jupyter-widgets/controls",
          "model_name": "DescriptionStyleModel",
          "model_module_version": "1.5.0",
          "state": {
            "_model_module": "@jupyter-widgets/controls",
            "_model_module_version": "1.5.0",
            "_model_name": "DescriptionStyleModel",
            "_view_count": null,
            "_view_module": "@jupyter-widgets/base",
            "_view_module_version": "1.2.0",
            "_view_name": "StyleView",
            "description_width": ""
          }
        },
        "f17a5e753954414d995ea827d715eb53": {
          "model_module": "@jupyter-widgets/controls",
          "model_name": "HBoxModel",
          "model_module_version": "1.5.0",
          "state": {
            "_dom_classes": [],
            "_model_module": "@jupyter-widgets/controls",
            "_model_module_version": "1.5.0",
            "_model_name": "HBoxModel",
            "_view_count": null,
            "_view_module": "@jupyter-widgets/controls",
            "_view_module_version": "1.5.0",
            "_view_name": "HBoxView",
            "box_style": "",
            "children": [
              "IPY_MODEL_1b91fd902f2b4f119ee9649112006fc0",
              "IPY_MODEL_ea3166c3d192479e80416d658672955d",
              "IPY_MODEL_e27f09a5b83f4708ad280e32e61768c5"
            ],
            "layout": "IPY_MODEL_f711dc61ba63457b82e485435f8e28ba"
          }
        },
        "1b91fd902f2b4f119ee9649112006fc0": {
          "model_module": "@jupyter-widgets/controls",
          "model_name": "HTMLModel",
          "model_module_version": "1.5.0",
          "state": {
            "_dom_classes": [],
            "_model_module": "@jupyter-widgets/controls",
            "_model_module_version": "1.5.0",
            "_model_name": "HTMLModel",
            "_view_count": null,
            "_view_module": "@jupyter-widgets/controls",
            "_view_module_version": "1.5.0",
            "_view_name": "HTMLView",
            "description": "",
            "description_tooltip": null,
            "layout": "IPY_MODEL_e40ddf1efed74bf88a5564af8bb21bce",
            "placeholder": "​",
            "style": "IPY_MODEL_2da3b0895aaa4b44a8e8d9b27173fe7d",
            "value": "100%"
          }
        },
        "ea3166c3d192479e80416d658672955d": {
          "model_module": "@jupyter-widgets/controls",
          "model_name": "FloatProgressModel",
          "model_module_version": "1.5.0",
          "state": {
            "_dom_classes": [],
            "_model_module": "@jupyter-widgets/controls",
            "_model_module_version": "1.5.0",
            "_model_name": "FloatProgressModel",
            "_view_count": null,
            "_view_module": "@jupyter-widgets/controls",
            "_view_module_version": "1.5.0",
            "_view_name": "ProgressView",
            "bar_style": "success",
            "description": "",
            "description_tooltip": null,
            "layout": "IPY_MODEL_a1229a8802e84437adbfa03f3718545e",
            "max": 1648877,
            "min": 0,
            "orientation": "horizontal",
            "style": "IPY_MODEL_0fb9063ae63c41d7812165524eccc405",
            "value": 1648877
          }
        },
        "e27f09a5b83f4708ad280e32e61768c5": {
          "model_module": "@jupyter-widgets/controls",
          "model_name": "HTMLModel",
          "model_module_version": "1.5.0",
          "state": {
            "_dom_classes": [],
            "_model_module": "@jupyter-widgets/controls",
            "_model_module_version": "1.5.0",
            "_model_name": "HTMLModel",
            "_view_count": null,
            "_view_module": "@jupyter-widgets/controls",
            "_view_module_version": "1.5.0",
            "_view_name": "HTMLView",
            "description": "",
            "description_tooltip": null,
            "layout": "IPY_MODEL_12c15a3d3ee24e4d962267a656dd4985",
            "placeholder": "​",
            "style": "IPY_MODEL_335eeb770bcc48429f24bf76bb6f9964",
            "value": " 1648877/1648877 [00:00&lt;00:00, 35269324.98it/s]"
          }
        },
        "f711dc61ba63457b82e485435f8e28ba": {
          "model_module": "@jupyter-widgets/base",
          "model_name": "LayoutModel",
          "model_module_version": "1.2.0",
          "state": {
            "_model_module": "@jupyter-widgets/base",
            "_model_module_version": "1.2.0",
            "_model_name": "LayoutModel",
            "_view_count": null,
            "_view_module": "@jupyter-widgets/base",
            "_view_module_version": "1.2.0",
            "_view_name": "LayoutView",
            "align_content": null,
            "align_items": null,
            "align_self": null,
            "border": null,
            "bottom": null,
            "display": null,
            "flex": null,
            "flex_flow": null,
            "grid_area": null,
            "grid_auto_columns": null,
            "grid_auto_flow": null,
            "grid_auto_rows": null,
            "grid_column": null,
            "grid_gap": null,
            "grid_row": null,
            "grid_template_areas": null,
            "grid_template_columns": null,
            "grid_template_rows": null,
            "height": null,
            "justify_content": null,
            "justify_items": null,
            "left": null,
            "margin": null,
            "max_height": null,
            "max_width": null,
            "min_height": null,
            "min_width": null,
            "object_fit": null,
            "object_position": null,
            "order": null,
            "overflow": null,
            "overflow_x": null,
            "overflow_y": null,
            "padding": null,
            "right": null,
            "top": null,
            "visibility": null,
            "width": null
          }
        },
        "e40ddf1efed74bf88a5564af8bb21bce": {
          "model_module": "@jupyter-widgets/base",
          "model_name": "LayoutModel",
          "model_module_version": "1.2.0",
          "state": {
            "_model_module": "@jupyter-widgets/base",
            "_model_module_version": "1.2.0",
            "_model_name": "LayoutModel",
            "_view_count": null,
            "_view_module": "@jupyter-widgets/base",
            "_view_module_version": "1.2.0",
            "_view_name": "LayoutView",
            "align_content": null,
            "align_items": null,
            "align_self": null,
            "border": null,
            "bottom": null,
            "display": null,
            "flex": null,
            "flex_flow": null,
            "grid_area": null,
            "grid_auto_columns": null,
            "grid_auto_flow": null,
            "grid_auto_rows": null,
            "grid_column": null,
            "grid_gap": null,
            "grid_row": null,
            "grid_template_areas": null,
            "grid_template_columns": null,
            "grid_template_rows": null,
            "height": null,
            "justify_content": null,
            "justify_items": null,
            "left": null,
            "margin": null,
            "max_height": null,
            "max_width": null,
            "min_height": null,
            "min_width": null,
            "object_fit": null,
            "object_position": null,
            "order": null,
            "overflow": null,
            "overflow_x": null,
            "overflow_y": null,
            "padding": null,
            "right": null,
            "top": null,
            "visibility": null,
            "width": null
          }
        },
        "2da3b0895aaa4b44a8e8d9b27173fe7d": {
          "model_module": "@jupyter-widgets/controls",
          "model_name": "DescriptionStyleModel",
          "model_module_version": "1.5.0",
          "state": {
            "_model_module": "@jupyter-widgets/controls",
            "_model_module_version": "1.5.0",
            "_model_name": "DescriptionStyleModel",
            "_view_count": null,
            "_view_module": "@jupyter-widgets/base",
            "_view_module_version": "1.2.0",
            "_view_name": "StyleView",
            "description_width": ""
          }
        },
        "a1229a8802e84437adbfa03f3718545e": {
          "model_module": "@jupyter-widgets/base",
          "model_name": "LayoutModel",
          "model_module_version": "1.2.0",
          "state": {
            "_model_module": "@jupyter-widgets/base",
            "_model_module_version": "1.2.0",
            "_model_name": "LayoutModel",
            "_view_count": null,
            "_view_module": "@jupyter-widgets/base",
            "_view_module_version": "1.2.0",
            "_view_name": "LayoutView",
            "align_content": null,
            "align_items": null,
            "align_self": null,
            "border": null,
            "bottom": null,
            "display": null,
            "flex": null,
            "flex_flow": null,
            "grid_area": null,
            "grid_auto_columns": null,
            "grid_auto_flow": null,
            "grid_auto_rows": null,
            "grid_column": null,
            "grid_gap": null,
            "grid_row": null,
            "grid_template_areas": null,
            "grid_template_columns": null,
            "grid_template_rows": null,
            "height": null,
            "justify_content": null,
            "justify_items": null,
            "left": null,
            "margin": null,
            "max_height": null,
            "max_width": null,
            "min_height": null,
            "min_width": null,
            "object_fit": null,
            "object_position": null,
            "order": null,
            "overflow": null,
            "overflow_x": null,
            "overflow_y": null,
            "padding": null,
            "right": null,
            "top": null,
            "visibility": null,
            "width": null
          }
        },
        "0fb9063ae63c41d7812165524eccc405": {
          "model_module": "@jupyter-widgets/controls",
          "model_name": "ProgressStyleModel",
          "model_module_version": "1.5.0",
          "state": {
            "_model_module": "@jupyter-widgets/controls",
            "_model_module_version": "1.5.0",
            "_model_name": "ProgressStyleModel",
            "_view_count": null,
            "_view_module": "@jupyter-widgets/base",
            "_view_module_version": "1.2.0",
            "_view_name": "StyleView",
            "bar_color": null,
            "description_width": ""
          }
        },
        "12c15a3d3ee24e4d962267a656dd4985": {
          "model_module": "@jupyter-widgets/base",
          "model_name": "LayoutModel",
          "model_module_version": "1.2.0",
          "state": {
            "_model_module": "@jupyter-widgets/base",
            "_model_module_version": "1.2.0",
            "_model_name": "LayoutModel",
            "_view_count": null,
            "_view_module": "@jupyter-widgets/base",
            "_view_module_version": "1.2.0",
            "_view_name": "LayoutView",
            "align_content": null,
            "align_items": null,
            "align_self": null,
            "border": null,
            "bottom": null,
            "display": null,
            "flex": null,
            "flex_flow": null,
            "grid_area": null,
            "grid_auto_columns": null,
            "grid_auto_flow": null,
            "grid_auto_rows": null,
            "grid_column": null,
            "grid_gap": null,
            "grid_row": null,
            "grid_template_areas": null,
            "grid_template_columns": null,
            "grid_template_rows": null,
            "height": null,
            "justify_content": null,
            "justify_items": null,
            "left": null,
            "margin": null,
            "max_height": null,
            "max_width": null,
            "min_height": null,
            "min_width": null,
            "object_fit": null,
            "object_position": null,
            "order": null,
            "overflow": null,
            "overflow_x": null,
            "overflow_y": null,
            "padding": null,
            "right": null,
            "top": null,
            "visibility": null,
            "width": null
          }
        },
        "335eeb770bcc48429f24bf76bb6f9964": {
          "model_module": "@jupyter-widgets/controls",
          "model_name": "DescriptionStyleModel",
          "model_module_version": "1.5.0",
          "state": {
            "_model_module": "@jupyter-widgets/controls",
            "_model_module_version": "1.5.0",
            "_model_name": "DescriptionStyleModel",
            "_view_count": null,
            "_view_module": "@jupyter-widgets/base",
            "_view_module_version": "1.2.0",
            "_view_name": "StyleView",
            "description_width": ""
          }
        },
        "5fbe97a3dfbc485aba7bd21a4d96f908": {
          "model_module": "@jupyter-widgets/controls",
          "model_name": "HBoxModel",
          "model_module_version": "1.5.0",
          "state": {
            "_dom_classes": [],
            "_model_module": "@jupyter-widgets/controls",
            "_model_module_version": "1.5.0",
            "_model_name": "HBoxModel",
            "_view_count": null,
            "_view_module": "@jupyter-widgets/controls",
            "_view_module_version": "1.5.0",
            "_view_name": "HBoxView",
            "box_style": "",
            "children": [
              "IPY_MODEL_09ea55c90e0f4c459f0c3786b1186379",
              "IPY_MODEL_a5ad3f0051d94213a534d934f93f7f00",
              "IPY_MODEL_202947411a45493284d11da8eae20eff"
            ],
            "layout": "IPY_MODEL_2e6cbe1448f24198b4a07b640ffb0bca"
          }
        },
        "09ea55c90e0f4c459f0c3786b1186379": {
          "model_module": "@jupyter-widgets/controls",
          "model_name": "HTMLModel",
          "model_module_version": "1.5.0",
          "state": {
            "_dom_classes": [],
            "_model_module": "@jupyter-widgets/controls",
            "_model_module_version": "1.5.0",
            "_model_name": "HTMLModel",
            "_view_count": null,
            "_view_module": "@jupyter-widgets/controls",
            "_view_module_version": "1.5.0",
            "_view_name": "HTMLView",
            "description": "",
            "description_tooltip": null,
            "layout": "IPY_MODEL_6e71e1f7ddac4f19a9ea66440440d363",
            "placeholder": "​",
            "style": "IPY_MODEL_28530003ab2a4258b5fbf67d704c5ce5",
            "value": "100%"
          }
        },
        "a5ad3f0051d94213a534d934f93f7f00": {
          "model_module": "@jupyter-widgets/controls",
          "model_name": "FloatProgressModel",
          "model_module_version": "1.5.0",
          "state": {
            "_dom_classes": [],
            "_model_module": "@jupyter-widgets/controls",
            "_model_module_version": "1.5.0",
            "_model_name": "FloatProgressModel",
            "_view_count": null,
            "_view_module": "@jupyter-widgets/controls",
            "_view_module_version": "1.5.0",
            "_view_name": "ProgressView",
            "bar_style": "success",
            "description": "",
            "description_tooltip": null,
            "layout": "IPY_MODEL_6421364071b7497382df99ac787bfbe4",
            "max": 4542,
            "min": 0,
            "orientation": "horizontal",
            "style": "IPY_MODEL_cd3ae3c9f2b44de3a47b6e3fee598533",
            "value": 4542
          }
        },
        "202947411a45493284d11da8eae20eff": {
          "model_module": "@jupyter-widgets/controls",
          "model_name": "HTMLModel",
          "model_module_version": "1.5.0",
          "state": {
            "_dom_classes": [],
            "_model_module": "@jupyter-widgets/controls",
            "_model_module_version": "1.5.0",
            "_model_name": "HTMLModel",
            "_view_count": null,
            "_view_module": "@jupyter-widgets/controls",
            "_view_module_version": "1.5.0",
            "_view_name": "HTMLView",
            "description": "",
            "description_tooltip": null,
            "layout": "IPY_MODEL_543e47c771174ac39f8910fb5a27cdb7",
            "placeholder": "​",
            "style": "IPY_MODEL_9d542615261b45f88e3e1426d381f98f",
            "value": " 4542/4542 [00:00&lt;00:00, 140054.76it/s]"
          }
        },
        "2e6cbe1448f24198b4a07b640ffb0bca": {
          "model_module": "@jupyter-widgets/base",
          "model_name": "LayoutModel",
          "model_module_version": "1.2.0",
          "state": {
            "_model_module": "@jupyter-widgets/base",
            "_model_module_version": "1.2.0",
            "_model_name": "LayoutModel",
            "_view_count": null,
            "_view_module": "@jupyter-widgets/base",
            "_view_module_version": "1.2.0",
            "_view_name": "LayoutView",
            "align_content": null,
            "align_items": null,
            "align_self": null,
            "border": null,
            "bottom": null,
            "display": null,
            "flex": null,
            "flex_flow": null,
            "grid_area": null,
            "grid_auto_columns": null,
            "grid_auto_flow": null,
            "grid_auto_rows": null,
            "grid_column": null,
            "grid_gap": null,
            "grid_row": null,
            "grid_template_areas": null,
            "grid_template_columns": null,
            "grid_template_rows": null,
            "height": null,
            "justify_content": null,
            "justify_items": null,
            "left": null,
            "margin": null,
            "max_height": null,
            "max_width": null,
            "min_height": null,
            "min_width": null,
            "object_fit": null,
            "object_position": null,
            "order": null,
            "overflow": null,
            "overflow_x": null,
            "overflow_y": null,
            "padding": null,
            "right": null,
            "top": null,
            "visibility": null,
            "width": null
          }
        },
        "6e71e1f7ddac4f19a9ea66440440d363": {
          "model_module": "@jupyter-widgets/base",
          "model_name": "LayoutModel",
          "model_module_version": "1.2.0",
          "state": {
            "_model_module": "@jupyter-widgets/base",
            "_model_module_version": "1.2.0",
            "_model_name": "LayoutModel",
            "_view_count": null,
            "_view_module": "@jupyter-widgets/base",
            "_view_module_version": "1.2.0",
            "_view_name": "LayoutView",
            "align_content": null,
            "align_items": null,
            "align_self": null,
            "border": null,
            "bottom": null,
            "display": null,
            "flex": null,
            "flex_flow": null,
            "grid_area": null,
            "grid_auto_columns": null,
            "grid_auto_flow": null,
            "grid_auto_rows": null,
            "grid_column": null,
            "grid_gap": null,
            "grid_row": null,
            "grid_template_areas": null,
            "grid_template_columns": null,
            "grid_template_rows": null,
            "height": null,
            "justify_content": null,
            "justify_items": null,
            "left": null,
            "margin": null,
            "max_height": null,
            "max_width": null,
            "min_height": null,
            "min_width": null,
            "object_fit": null,
            "object_position": null,
            "order": null,
            "overflow": null,
            "overflow_x": null,
            "overflow_y": null,
            "padding": null,
            "right": null,
            "top": null,
            "visibility": null,
            "width": null
          }
        },
        "28530003ab2a4258b5fbf67d704c5ce5": {
          "model_module": "@jupyter-widgets/controls",
          "model_name": "DescriptionStyleModel",
          "model_module_version": "1.5.0",
          "state": {
            "_model_module": "@jupyter-widgets/controls",
            "_model_module_version": "1.5.0",
            "_model_name": "DescriptionStyleModel",
            "_view_count": null,
            "_view_module": "@jupyter-widgets/base",
            "_view_module_version": "1.2.0",
            "_view_name": "StyleView",
            "description_width": ""
          }
        },
        "6421364071b7497382df99ac787bfbe4": {
          "model_module": "@jupyter-widgets/base",
          "model_name": "LayoutModel",
          "model_module_version": "1.2.0",
          "state": {
            "_model_module": "@jupyter-widgets/base",
            "_model_module_version": "1.2.0",
            "_model_name": "LayoutModel",
            "_view_count": null,
            "_view_module": "@jupyter-widgets/base",
            "_view_module_version": "1.2.0",
            "_view_name": "LayoutView",
            "align_content": null,
            "align_items": null,
            "align_self": null,
            "border": null,
            "bottom": null,
            "display": null,
            "flex": null,
            "flex_flow": null,
            "grid_area": null,
            "grid_auto_columns": null,
            "grid_auto_flow": null,
            "grid_auto_rows": null,
            "grid_column": null,
            "grid_gap": null,
            "grid_row": null,
            "grid_template_areas": null,
            "grid_template_columns": null,
            "grid_template_rows": null,
            "height": null,
            "justify_content": null,
            "justify_items": null,
            "left": null,
            "margin": null,
            "max_height": null,
            "max_width": null,
            "min_height": null,
            "min_width": null,
            "object_fit": null,
            "object_position": null,
            "order": null,
            "overflow": null,
            "overflow_x": null,
            "overflow_y": null,
            "padding": null,
            "right": null,
            "top": null,
            "visibility": null,
            "width": null
          }
        },
        "cd3ae3c9f2b44de3a47b6e3fee598533": {
          "model_module": "@jupyter-widgets/controls",
          "model_name": "ProgressStyleModel",
          "model_module_version": "1.5.0",
          "state": {
            "_model_module": "@jupyter-widgets/controls",
            "_model_module_version": "1.5.0",
            "_model_name": "ProgressStyleModel",
            "_view_count": null,
            "_view_module": "@jupyter-widgets/base",
            "_view_module_version": "1.2.0",
            "_view_name": "StyleView",
            "bar_color": null,
            "description_width": ""
          }
        },
        "543e47c771174ac39f8910fb5a27cdb7": {
          "model_module": "@jupyter-widgets/base",
          "model_name": "LayoutModel",
          "model_module_version": "1.2.0",
          "state": {
            "_model_module": "@jupyter-widgets/base",
            "_model_module_version": "1.2.0",
            "_model_name": "LayoutModel",
            "_view_count": null,
            "_view_module": "@jupyter-widgets/base",
            "_view_module_version": "1.2.0",
            "_view_name": "LayoutView",
            "align_content": null,
            "align_items": null,
            "align_self": null,
            "border": null,
            "bottom": null,
            "display": null,
            "flex": null,
            "flex_flow": null,
            "grid_area": null,
            "grid_auto_columns": null,
            "grid_auto_flow": null,
            "grid_auto_rows": null,
            "grid_column": null,
            "grid_gap": null,
            "grid_row": null,
            "grid_template_areas": null,
            "grid_template_columns": null,
            "grid_template_rows": null,
            "height": null,
            "justify_content": null,
            "justify_items": null,
            "left": null,
            "margin": null,
            "max_height": null,
            "max_width": null,
            "min_height": null,
            "min_width": null,
            "object_fit": null,
            "object_position": null,
            "order": null,
            "overflow": null,
            "overflow_x": null,
            "overflow_y": null,
            "padding": null,
            "right": null,
            "top": null,
            "visibility": null,
            "width": null
          }
        },
        "9d542615261b45f88e3e1426d381f98f": {
          "model_module": "@jupyter-widgets/controls",
          "model_name": "DescriptionStyleModel",
          "model_module_version": "1.5.0",
          "state": {
            "_model_module": "@jupyter-widgets/controls",
            "_model_module_version": "1.5.0",
            "_model_name": "DescriptionStyleModel",
            "_view_count": null,
            "_view_module": "@jupyter-widgets/base",
            "_view_module_version": "1.2.0",
            "_view_name": "StyleView",
            "description_width": ""
          }
        }
      }
    },
    "accelerator": "GPU"
  },
  "cells": [
    {
      "cell_type": "markdown",
      "metadata": {
        "id": "view-in-github",
        "colab_type": "text"
      },
      "source": [
        "<a href=\"https://colab.research.google.com/github/BySanghyeon/AI_Paper_Review/blob/main/GAN/CGAN.ipynb\" target=\"_parent\"><img src=\"https://colab.research.google.com/assets/colab-badge.svg\" alt=\"Open In Colab\"/></a>"
      ]
    },
    {
      "cell_type": "code",
      "source": [
        "import torchvision.datasets as datasets\n",
        "import os\n",
        "import torchvision.transforms as transforms\n",
        "from torch.utils.data import DataLoader\n",
        "from torchvision import utils\n",
        "import matplotlib.pyplot as plt\n",
        "import numpy as np\n",
        "import torch.nn as nn\n",
        "import torch\n",
        "import torch.nn.functional as F\n",
        "import time\n",
        "from torchvision.transforms.functional import to_pil_image\n",
        "%matplotlib inline\n",
        "\n",
        "device = torch.device('cuda' if torch.cuda.is_available() else 'cpu')"
      ],
      "metadata": {
        "id": "4nIxVwKl_1CS"
      },
      "execution_count": null,
      "outputs": []
    },
    {
      "cell_type": "markdown",
      "source": [
        "# Load Dataset  "
      ],
      "metadata": {
        "id": "Pz9BbGAuA3v2"
      }
    },
    {
      "cell_type": "code",
      "source": [
        "# specify data path\n",
        "path2data = '/data'\n",
        "os.makedirs(path2data, exist_ok=True)"
      ],
      "metadata": {
        "id": "mJL3bqtXAwXj"
      },
      "execution_count": null,
      "outputs": []
    },
    {
      "cell_type": "code",
      "source": [
        "# define transformation\n",
        "train_transform = transforms.Compose([\n",
        "                        transforms.ToTensor(),\n",
        "                        transforms.Normalize([0.5],[0.5]),\n",
        "])"
      ],
      "metadata": {
        "id": "5hAVZLHjAyvb"
      },
      "execution_count": null,
      "outputs": []
    },
    {
      "cell_type": "code",
      "source": [
        "# Loading MNIST dataset \n",
        "train_ds = datasets.MNIST(path2data, \n",
        "                          train=True, \n",
        "                          transform = train_transform, \n",
        "                          download = True)"
      ],
      "metadata": {
        "colab": {
          "base_uri": "https://localhost:8080/",
          "height": 439,
          "referenced_widgets": [
            "e47deb44f7de46af877cbbc015011d12",
            "8a3fedf2bd0f4118b7f1d94846cb9f91",
            "afcb2f0d1af943cdb42cb5a501b0075c",
            "b824b4c3f47840fd96f225059e9186e1",
            "cdcbf5d6a9254066acd20f9a83c5bdc5",
            "b65aaeb3e64647ef85d6a718c22174f6",
            "474483f031e8407b931f3fdf181d8699",
            "ed7eb835b922431a9f663dfd1f9d9687",
            "27fea7ab40f14f51b6d668d7e69e88b9",
            "39a7ff755f8b486999f172c7c229156d",
            "c42fdc58d8f04666b04e65cd46b7f724",
            "577e4cda36f6492d95f62444c7102ae6",
            "19634f760cb54a979937b0ac95030bdc",
            "e05a9b738a9c42f086dbedc0cc66a357",
            "372c20e300764d08a3432ee647aa35b1",
            "baf66e84d13a4bd9be56fc4ea4768d75",
            "903c038b2567458ab1a2c919da27fb28",
            "9756ba1e2c8b41ab9f13f54814882a61",
            "b74d56db58854ee09bef0d89c2439b90",
            "f208b52b8eeb4cd186fde9026da82509",
            "01c92d56ce1d4f87bdd3f7940c460e49",
            "06b17d17728845ee9f9054bc60e23447",
            "f17a5e753954414d995ea827d715eb53",
            "1b91fd902f2b4f119ee9649112006fc0",
            "ea3166c3d192479e80416d658672955d",
            "e27f09a5b83f4708ad280e32e61768c5",
            "f711dc61ba63457b82e485435f8e28ba",
            "e40ddf1efed74bf88a5564af8bb21bce",
            "2da3b0895aaa4b44a8e8d9b27173fe7d",
            "a1229a8802e84437adbfa03f3718545e",
            "0fb9063ae63c41d7812165524eccc405",
            "12c15a3d3ee24e4d962267a656dd4985",
            "335eeb770bcc48429f24bf76bb6f9964",
            "5fbe97a3dfbc485aba7bd21a4d96f908",
            "09ea55c90e0f4c459f0c3786b1186379",
            "a5ad3f0051d94213a534d934f93f7f00",
            "202947411a45493284d11da8eae20eff",
            "2e6cbe1448f24198b4a07b640ffb0bca",
            "6e71e1f7ddac4f19a9ea66440440d363",
            "28530003ab2a4258b5fbf67d704c5ce5",
            "6421364071b7497382df99ac787bfbe4",
            "cd3ae3c9f2b44de3a47b6e3fee598533",
            "543e47c771174ac39f8910fb5a27cdb7",
            "9d542615261b45f88e3e1426d381f98f"
          ]
        },
        "id": "2skCgCOAAwnz",
        "outputId": "aa3c6812-b4ad-4546-d2a3-5751aa0c7139"
      },
      "execution_count": null,
      "outputs": [
        {
          "output_type": "stream",
          "name": "stdout",
          "text": [
            "Downloading http://yann.lecun.com/exdb/mnist/train-images-idx3-ubyte.gz\n",
            "Downloading http://yann.lecun.com/exdb/mnist/train-images-idx3-ubyte.gz to /data/MNIST/raw/train-images-idx3-ubyte.gz\n"
          ]
        },
        {
          "output_type": "display_data",
          "data": {
            "text/plain": [
              "  0%|          | 0/9912422 [00:00<?, ?it/s]"
            ],
            "application/vnd.jupyter.widget-view+json": {
              "version_major": 2,
              "version_minor": 0,
              "model_id": "e47deb44f7de46af877cbbc015011d12"
            }
          },
          "metadata": {}
        },
        {
          "output_type": "stream",
          "name": "stdout",
          "text": [
            "Extracting /data/MNIST/raw/train-images-idx3-ubyte.gz to /data/MNIST/raw\n",
            "\n",
            "Downloading http://yann.lecun.com/exdb/mnist/train-labels-idx1-ubyte.gz\n",
            "Downloading http://yann.lecun.com/exdb/mnist/train-labels-idx1-ubyte.gz to /data/MNIST/raw/train-labels-idx1-ubyte.gz\n"
          ]
        },
        {
          "output_type": "display_data",
          "data": {
            "text/plain": [
              "  0%|          | 0/28881 [00:00<?, ?it/s]"
            ],
            "application/vnd.jupyter.widget-view+json": {
              "version_major": 2,
              "version_minor": 0,
              "model_id": "577e4cda36f6492d95f62444c7102ae6"
            }
          },
          "metadata": {}
        },
        {
          "output_type": "stream",
          "name": "stdout",
          "text": [
            "Extracting /data/MNIST/raw/train-labels-idx1-ubyte.gz to /data/MNIST/raw\n",
            "\n",
            "Downloading http://yann.lecun.com/exdb/mnist/t10k-images-idx3-ubyte.gz\n",
            "Downloading http://yann.lecun.com/exdb/mnist/t10k-images-idx3-ubyte.gz to /data/MNIST/raw/t10k-images-idx3-ubyte.gz\n"
          ]
        },
        {
          "output_type": "display_data",
          "data": {
            "text/plain": [
              "  0%|          | 0/1648877 [00:00<?, ?it/s]"
            ],
            "application/vnd.jupyter.widget-view+json": {
              "version_major": 2,
              "version_minor": 0,
              "model_id": "f17a5e753954414d995ea827d715eb53"
            }
          },
          "metadata": {}
        },
        {
          "output_type": "stream",
          "name": "stdout",
          "text": [
            "Extracting /data/MNIST/raw/t10k-images-idx3-ubyte.gz to /data/MNIST/raw\n",
            "\n",
            "Downloading http://yann.lecun.com/exdb/mnist/t10k-labels-idx1-ubyte.gz\n",
            "Downloading http://yann.lecun.com/exdb/mnist/t10k-labels-idx1-ubyte.gz to /data/MNIST/raw/t10k-labels-idx1-ubyte.gz\n"
          ]
        },
        {
          "output_type": "display_data",
          "data": {
            "text/plain": [
              "  0%|          | 0/4542 [00:00<?, ?it/s]"
            ],
            "application/vnd.jupyter.widget-view+json": {
              "version_major": 2,
              "version_minor": 0,
              "model_id": "5fbe97a3dfbc485aba7bd21a4d96f908"
            }
          },
          "metadata": {}
        },
        {
          "output_type": "stream",
          "name": "stdout",
          "text": [
            "Extracting /data/MNIST/raw/t10k-labels-idx1-ubyte.gz to /data/MNIST/raw\n",
            "\n"
          ]
        }
      ]
    },
    {
      "cell_type": "code",
      "source": [
        "# check sample image \n",
        "img, label = train_ds.data, train_ds.targets\n",
        "\n",
        "# add dimension\n",
        "if len(img.shape) == 3:\n",
        "    img = img.unsqueeze(1) #B*C*H*W\n",
        "\n",
        "# create grid \n",
        "img_grid = utils.make_grid(img[:40], nrow=8, padding=2)\n",
        "\n",
        "def show(img):\n",
        "    npimg = img.numpy()\n",
        "    npimg_tr = npimg.transpose((1,2,0)) # [C,H,H] -> [H,W,C]\n",
        "    plt.imshow(npimg_tr, interpolation='nearest')\n",
        "\n",
        "show(img_grid)"
      ],
      "metadata": {
        "colab": {
          "base_uri": "https://localhost:8080/",
          "height": 261
        },
        "id": "uoWzbhUXAwtA",
        "outputId": "86b85300-7f1d-46de-a9b6-54cfdbfadf6d"
      },
      "execution_count": null,
      "outputs": [
        {
          "output_type": "display_data",
          "data": {
            "text/plain": [
              "<Figure size 432x288 with 1 Axes>"
            ],
            "image/png": "[encoded data removed]"
          },
          "metadata": {
            "needs_background": "light"
          }
        }
      ]
    },
    {
      "cell_type": "code",
      "source": [
        "# create DataLoader\n",
        "train_dl =DataLoader(train_ds, batch_size=64, shuffle=True)"
      ],
      "metadata": {
        "id": "GV3KS1e_Aww1"
      },
      "execution_count": null,
      "outputs": []
    },
    {
      "cell_type": "markdown",
      "source": [
        "# Modeling"
      ],
      "metadata": {
        "id": "UI-k_zKnNs1b"
      }
    },
    {
      "cell_type": "code",
      "source": [
        "# setting params\n",
        "params = {'num_classes':10,\n",
        "          'nz':100, # 노이즈\n",
        "          'input_size':(1,28,28)}"
      ],
      "metadata": {
        "id": "UjXZWrRCAw0b"
      },
      "execution_count": null,
      "outputs": []
    },
    {
      "cell_type": "code",
      "source": [
        "# from torch.nn.modules.activation import LeakyReLU\n",
        "# Generator\n",
        "class Generator(nn.Module):\n",
        "    def __init__(self, params):\n",
        "        super().__init__()\n",
        "        self.num_classes = params['num_classes']\n",
        "        self.nz = params['nz']\n",
        "        self.input_size = params['input_size']\n",
        "\n",
        "        # create a label embedding matrix to join noise and label\n",
        "        self.label_emb = nn.Embedding(self.num_classes, self. num_classes)\n",
        "\n",
        "\n",
        "        self.gen = nn.Sequential(\n",
        "            nn.Linear(self.nz + self.num_classes, 128),\n",
        "            nn.LeakyReLU(0.2),\n",
        "            nn.Linear(128, 256),\n",
        "            nn.BatchNorm1d(256),\n",
        "            nn.LeakyReLU(0.2),\n",
        "            nn.Linear(256, 512),\n",
        "            nn.BatchNorm1d(512),\n",
        "            nn.LeakyReLU(0.2), \n",
        "            nn.Linear(512, 1024),\n",
        "            nn.BatchNorm1d(1024),\n",
        "            nn.LeakyReLU(0.2),\n",
        "            nn.Linear(1024, int(np.prod(self.input_size))),\n",
        "            nn.Tanh()\n",
        "        )\n",
        "\n",
        "    def forward(self, noise, labels):\n",
        "        # join noise and label\n",
        "        gen_input = torch.cat((self.label_emb(labels), noise),-1)\n",
        "        x = self.gen(gen_input)\n",
        "        x = x.view(x.size(0), *self.input_size)\n",
        "        return x \n",
        "\n",
        "x = torch.randn(16, 100, device=device)# noise\n",
        "label = torch.randint(0,10,(16,), device=device) # label\n",
        "model_gen= Generator(params).to(device)\n",
        "out_gen = model_gen(x, label) # Generate fake image\n",
        "print(out_gen.shape)"
      ],
      "metadata": {
        "colab": {
          "base_uri": "https://localhost:8080/"
        },
        "id": "d7ZVI2_qAw3Y",
        "outputId": "cf1f81dc-c759-4df5-b5d9-e1e281692e4e"
      },
      "execution_count": null,
      "outputs": [
        {
          "output_type": "stream",
          "name": "stdout",
          "text": [
            "torch.Size([16, 1, 28, 28])\n"
          ]
        }
      ]
    },
    {
      "cell_type": "code",
      "source": [
        "# Discriminator\n",
        "class Discriminator(nn.Module):\n",
        "    def __init__(self, params):\n",
        "        super().__init__()\n",
        "        self.input_size = params['input_size']\n",
        "        self.num_classes = params['num_classes']\n",
        "        \n",
        "        self.label_embedding = nn.Embedding(self.num_classes, self.num_classes)\n",
        "\n",
        "        self.dis= nn.Sequential(\n",
        "            nn.Linear(self.num_classes+int(np.prod(self.input_size)), 512),\n",
        "            nn.LeakyReLU(0.2),\n",
        "            nn.Linear(512,512),\n",
        "            nn.Dropout(0.4),\n",
        "            nn.LeakyReLU(0.2),\n",
        "            nn.Linear(512,512),\n",
        "            nn.Dropout(0.4),\n",
        "            nn.LeakyReLU(0.2),\n",
        "            nn.Linear(512,1),\n",
        "            nn.Sigmoid()\n",
        "        )\n",
        "\n",
        "    def forward(self, img, labels):\n",
        "        dis_input = torch.cat((img.view(img.size(0),-1), self.label_embedding(labels)),-1)\n",
        "\n",
        "        x = self.dis(dis_input)\n",
        "        return x \n",
        "# check\n",
        "x = torch.randn(16,1,28,28, device=device)\n",
        "label = torch.randint(0,10,(16,), device=device)\n",
        "model_dis = Discriminator(params).to(device)\n",
        "out_dis = model_dis(x, label)\n",
        "print(out_dis.shape)"
      ],
      "metadata": {
        "colab": {
          "base_uri": "https://localhost:8080/"
        },
        "id": "FnEBBxT2Aw6d",
        "outputId": "a103f847-2a49-4a38-ced0-2ef708f9bfdc"
      },
      "execution_count": null,
      "outputs": [
        {
          "output_type": "stream",
          "name": "stdout",
          "text": [
            "torch.Size([16, 1])\n"
          ]
        }
      ]
    },
    {
      "cell_type": "code",
      "source": [
        "# weight initialization \n",
        "def initialize_weights(model):\n",
        "    classname = model.__class__.__name__\n",
        "    # fully connected layer\n",
        "    if classname.find('Linear') != -1:\n",
        "        nn.init.normal_(model.weight.data, 0.0, 0.02)\n",
        "        nn.init.constant_(model.bias.data, 0)\n",
        "    # batchnorm\n",
        "    elif classname.find('BatchNorm') != -1:\n",
        "        nn.init.normal_(model.weight.data, 1.0, 0.02)\n",
        "        nn.init.constant_(model.bias.data, 0)\n",
        "\n",
        "# apply weight initialization\n",
        "model_gen.apply(initialize_weights);\n",
        "model_dis.apply(initialize_weights);\n"
      ],
      "metadata": {
        "id": "LfdNL7BdAw9t"
      },
      "execution_count": null,
      "outputs": []
    },
    {
      "cell_type": "markdown",
      "source": [
        "# Training "
      ],
      "metadata": {
        "id": "IA99px-y5b1i"
      }
    },
    {
      "cell_type": "code",
      "source": [
        "# Loss function \n",
        "loss_func = nn.BCELoss()\n",
        "from torch import optim\n",
        "\n",
        "lr = 2e-4   \n",
        "beta1 = 0.5\n",
        "beta2 = 0.999\n",
        "\n",
        "# optimization\n",
        "opt_dis = optim.Adam(model_dis.parameters(), lr=lr, betas=(beta1, beta2))\n",
        "opt_gen = optim.Adam(model_gen.parameters(), lr=lr, betas=(beta1, beta2))"
      ],
      "metadata": {
        "id": "xusHknGKAxAz"
      },
      "execution_count": null,
      "outputs": []
    },
    {
      "cell_type": "code",
      "source": [
        "nz = params['num_classes']\n",
        "num_epochs = 50\n",
        "\n",
        "loss_history={'gen':[],\n",
        "              'dis':[]}"
      ],
      "metadata": {
        "id": "AzsZq_ubAxED"
      },
      "execution_count": null,
      "outputs": []
    },
    {
      "cell_type": "code",
      "source": [
        "# training\n",
        "batch_count = 0 \n",
        "start_time = time.time()\n",
        "model_dis.train() \n",
        "model_gen.train() \n",
        "\n",
        "for epoch in range(num_epochs):\n",
        "    for xb, yb in train_dl:\n",
        "        ba_si = xb.shape[0]\n",
        "\n",
        "        xb = xb.to(device)\n",
        "        yb = yb.to(device)\n",
        "        yb_real = torch.Tensor(ba_si, 1).fill_(1.0).to(device) # real_label\n",
        "        yb_fake = torch.Tensor(ba_si, 1).fill_(0.0).to(device) # fake_label\n",
        "\n",
        "        # generator \n",
        "        model_gen.zero_grad()\n",
        "        noise = torch.randn(ba_si, 100).to(device) # generate noise\n",
        "        gen_label = torch.randint(0, 10, (ba_si,)).to(device) # generate label \n",
        "\n",
        "        # generate fake image \n",
        "        out_gen = model_gen(noise, gen_label)\n",
        "\n",
        "        # discriminate fake image \n",
        "        out_dis = model_dis(out_gen, gen_label)\n",
        "\n",
        "        loss_gen = loss_func(out_dis, yb_real)\n",
        "        loss_gen.backward()\n",
        "        opt_gen.step()\n",
        "\n",
        "        # Discriminator\n",
        "        model_dis.zero_grad()\n",
        "\n",
        "        # Discriminate real image\n",
        "        out_dis = model_dis(xb, yb)\n",
        "        loss_real = loss_func(out_dis, yb_real)\n",
        "\n",
        "        #Discriminate fake image \n",
        "        out_dis = model_dis(out_gen.detach(), gen_label)\n",
        "        loss_fake = loss_func(out_dis, yb_fake)\n",
        "\n",
        "        loss_dis = (loss_real + loss_fake) / 2\n",
        "        loss_dis.backward()\n",
        "        opt_dis.step()\n",
        "\n",
        "        loss_history['gen'].append(loss_gen.item())\n",
        "        loss_history['dis'].append(loss_gen.item())\n",
        "\n",
        "        batch_count += 1\n",
        "        if batch_count % 1000 ==0:\n",
        "            print('Epoch: %.0f, G_Loss: %.6f, D_Loss: %.6f, time: %.2f min' %(epoch, loss_gen.item(), loss_dis.item(), (time.time()-start_time)/60))\n",
        "\n",
        "\n"
      ],
      "metadata": {
        "colab": {
          "base_uri": "https://localhost:8080/"
        },
        "id": "n7gsS3loS9oo",
        "outputId": "95e28873-d70c-4989-d12c-544f2e093f02"
      },
      "execution_count": null,
      "outputs": [
        {
          "output_type": "stream",
          "name": "stdout",
          "text": [
            "Epoch: 1, G_Loss: 2.040328, D_Loss: 0.335694, time: 0.41 min\n",
            "Epoch: 2, G_Loss: 1.702610, D_Loss: 0.275458, time: 0.71 min\n",
            "Epoch: 3, G_Loss: 1.637943, D_Loss: 0.298531, time: 1.03 min\n",
            "Epoch: 4, G_Loss: 2.421715, D_Loss: 0.211113, time: 1.33 min\n",
            "Epoch: 5, G_Loss: 1.794709, D_Loss: 0.215029, time: 1.64 min\n",
            "Epoch: 6, G_Loss: 1.867434, D_Loss: 0.309848, time: 1.95 min\n",
            "Epoch: 7, G_Loss: 2.506872, D_Loss: 0.409995, time: 2.26 min\n",
            "Epoch: 8, G_Loss: 2.119184, D_Loss: 0.283949, time: 2.56 min\n",
            "Epoch: 9, G_Loss: 1.956303, D_Loss: 0.268213, time: 2.87 min\n",
            "Epoch: 10, G_Loss: 1.797197, D_Loss: 0.289863, time: 3.17 min\n",
            "Epoch: 11, G_Loss: 2.804176, D_Loss: 0.348986, time: 3.48 min\n",
            "Epoch: 12, G_Loss: 2.667562, D_Loss: 0.242117, time: 3.78 min\n",
            "Epoch: 13, G_Loss: 2.153300, D_Loss: 0.306108, time: 4.09 min\n",
            "Epoch: 14, G_Loss: 2.706040, D_Loss: 0.235749, time: 4.39 min\n",
            "Epoch: 15, G_Loss: 1.332512, D_Loss: 0.381297, time: 4.70 min\n",
            "Epoch: 17, G_Loss: 1.970117, D_Loss: 0.329374, time: 5.00 min\n",
            "Epoch: 18, G_Loss: 1.505108, D_Loss: 0.314079, time: 5.31 min\n",
            "Epoch: 19, G_Loss: 3.250261, D_Loss: 0.253781, time: 5.61 min\n",
            "Epoch: 20, G_Loss: 2.394202, D_Loss: 0.284703, time: 5.91 min\n",
            "Epoch: 21, G_Loss: 2.433761, D_Loss: 0.269829, time: 6.22 min\n",
            "Epoch: 22, G_Loss: 2.910002, D_Loss: 0.182907, time: 6.52 min\n",
            "Epoch: 23, G_Loss: 2.296382, D_Loss: 0.242299, time: 6.82 min\n",
            "Epoch: 24, G_Loss: 2.644002, D_Loss: 0.305805, time: 7.13 min\n",
            "Epoch: 25, G_Loss: 2.833879, D_Loss: 0.214728, time: 7.43 min\n",
            "Epoch: 26, G_Loss: 2.717719, D_Loss: 0.168825, time: 7.74 min\n",
            "Epoch: 27, G_Loss: 2.116475, D_Loss: 0.259817, time: 8.04 min\n",
            "Epoch: 28, G_Loss: 2.852467, D_Loss: 0.324401, time: 8.34 min\n",
            "Epoch: 29, G_Loss: 1.890698, D_Loss: 0.269770, time: 8.65 min\n",
            "Epoch: 30, G_Loss: 1.620134, D_Loss: 0.341145, time: 8.95 min\n",
            "Epoch: 31, G_Loss: 1.934718, D_Loss: 0.394185, time: 9.26 min\n",
            "Epoch: 33, G_Loss: 3.234259, D_Loss: 0.285312, time: 9.56 min\n",
            "Epoch: 34, G_Loss: 2.268078, D_Loss: 0.245046, time: 9.87 min\n",
            "Epoch: 35, G_Loss: 2.826970, D_Loss: 0.181042, time: 10.17 min\n",
            "Epoch: 36, G_Loss: 1.849754, D_Loss: 0.291157, time: 10.47 min\n",
            "Epoch: 37, G_Loss: 2.378241, D_Loss: 0.218276, time: 10.78 min\n",
            "Epoch: 38, G_Loss: 2.429931, D_Loss: 0.258860, time: 11.08 min\n",
            "Epoch: 39, G_Loss: 2.630063, D_Loss: 0.248629, time: 11.38 min\n",
            "Epoch: 40, G_Loss: 2.165097, D_Loss: 0.262902, time: 11.68 min\n",
            "Epoch: 41, G_Loss: 2.545352, D_Loss: 0.276897, time: 11.98 min\n",
            "Epoch: 42, G_Loss: 3.882338, D_Loss: 0.239065, time: 12.28 min\n",
            "Epoch: 43, G_Loss: 2.226279, D_Loss: 0.352938, time: 12.58 min\n",
            "Epoch: 44, G_Loss: 2.849544, D_Loss: 0.273922, time: 12.88 min\n",
            "Epoch: 45, G_Loss: 2.103981, D_Loss: 0.272623, time: 13.18 min\n",
            "Epoch: 46, G_Loss: 2.995603, D_Loss: 0.304381, time: 13.48 min\n",
            "Epoch: 47, G_Loss: 2.601914, D_Loss: 0.245881, time: 13.79 min\n",
            "Epoch: 49, G_Loss: 2.539546, D_Loss: 0.203436, time: 14.09 min\n"
          ]
        }
      ]
    },
    {
      "cell_type": "code",
      "source": [
        "# plt loss history \n",
        "plt.figure(figsize=(10,5))\n",
        "plt.title('Long Progress')\n",
        "plt.plot(loss_history['gen'], label='Gen. Loss')\n",
        "plt.plot(loss_history['dis'], label='Dis. Loss')\n",
        "plt.xlabel('batch count')\n",
        "plt.ylabel('Loss')\n",
        "plt.legend()\n",
        "plt.show()"
      ],
      "metadata": {
        "colab": {
          "base_uri": "https://localhost:8080/",
          "height": 350
        },
        "id": "eVGk0mWJAxJ3",
        "outputId": "d52d935b-85f0-4015-af73-0bfa1192b421"
      },
      "execution_count": null,
      "outputs": [
        {
          "output_type": "display_data",
          "data": {
            "text/plain": [
              "<Figure size 720x360 with 1 Axes>"
            ],
            "image/png": "[encoded data removed]"
          },
          "metadata": {
            "needs_background": "light"
          }
        }
      ]
    },
    {
      "cell_type": "code",
      "source": [
        "path2models = './models/'\n",
        "os.makedirs(path2models, exist_ok=True)\n",
        "path2weights_gen = os.path.join(path2models, 'weights_gen.pt')\n",
        "path2weights_dis = os.path.join(path2models, 'weights_dis.pt')\n",
        "\n",
        "torch.save(model_gen.state_dict(), path2weights_gen)\n",
        "torch.save(model_dis.state_dict(), path2weights_dis)"
      ],
      "metadata": {
        "id": "z1qYfRpbAxNe"
      },
      "execution_count": null,
      "outputs": []
    },
    {
      "cell_type": "markdown",
      "source": [
        "# Check images that are generated by G"
      ],
      "metadata": {
        "id": "5zTODfzmNHvl"
      }
    },
    {
      "cell_type": "code",
      "source": [
        "# load weights \n",
        "weights = torch.load(path2weights_gen)\n",
        "model_gen.load_state_dict(weights)\n",
        "\n",
        "# evaluation mode\n",
        "model_gen.eval()\n",
        "\n",
        "# generate fake image \n",
        "with torch.no_grad():\n",
        "    fixed_noise = torch.randn(16, 100, device=device)\n",
        "    label = torch.randint(0,10,(16,), device=device)\n",
        "    img_fake = model_gen(fixed_noise, label).detach().cpu()\n",
        "print(img_fake.shape)"
      ],
      "metadata": {
        "colab": {
          "base_uri": "https://localhost:8080/"
        },
        "id": "mTviQ2TINCFn",
        "outputId": "3232ddd3-ee89-491d-dc8e-1d6a5f642d95"
      },
      "execution_count": null,
      "outputs": [
        {
          "output_type": "stream",
          "name": "stdout",
          "text": [
            "torch.Size([16, 1, 28, 28])\n"
          ]
        }
      ]
    },
    {
      "cell_type": "code",
      "source": [
        "# visualize fake image \n",
        "plt.figure(figsize=(10,10))\n",
        "for ii in range(16):\n",
        "    plt.subplot(4,4, ii+1)\n",
        "    plt.imshow(to_pil_image(0.5*img_fake[ii]+0.5), cmap='gray')\n",
        "    plt.axis('off')"
      ],
      "metadata": {
        "colab": {
          "base_uri": "https://localhost:8080/",
          "height": 575
        },
        "id": "KSrg5z1NN1nH",
        "outputId": "39366fae-e7ed-4477-e42f-742f5a3cb62c"
      },
      "execution_count": null,
      "outputs": [
        {
          "output_type": "display_data",
          "data": {
            "text/plain": [
              "<Figure size 720x720 with 16 Axes>"
            ],
            "image/png": "[encoded data removed]"
          },
          "metadata": {
            "needs_background": "light"
          }
        }
      ]
    },
    {
      "cell_type": "code",
      "source": [],
      "metadata": {
        "id": "F1dSJtoJOVtG"
      },
      "execution_count": null,
      "outputs": []
    }
  ]
}